{
 "cells": [
  {
   "attachments": {},
   "cell_type": "markdown",
   "metadata": {},
   "source": [
    "### Load data from huggingface dataset"
   ]
  },
  {
   "cell_type": "code",
   "execution_count": 1,
   "metadata": {},
   "outputs": [],
   "source": [
    "\n",
    "import pandas as pd\n",
    "import numpy as np\n",
    "import seaborn as sns\n",
    "import matplotlib.pyplot as plt\n",
    "from datasets import load_dataset"
   ]
  },
  {
   "cell_type": "code",
   "execution_count": 6,
   "metadata": {},
   "outputs": [
    {
     "name": "stderr",
     "output_type": "stream",
     "text": [
      "Using the latest cached version of the module from /Users/linwang/.cache/huggingface/modules/datasets_modules/datasets/amazon_us_reviews/17b2481be59723469538adeb8fd0a68b0ba363bbbdd71090e72c325ee6c7e563 (last modified on Tue Jun 13 21:28:22 2023) since it couldn't be found locally at amazon_us_reviews., or remotely on the Hugging Face Hub.\n",
      "Found cached dataset amazon_us_reviews (/Users/linwang/.cache/huggingface/datasets/amazon_us_reviews/Baby_v1_00/0.1.0/17b2481be59723469538adeb8fd0a68b0ba363bbbdd71090e72c325ee6c7e563)\n",
      "100%|██████████| 1/1 [00:00<00:00,  1.32it/s]\n"
     ]
    },
    {
     "name": "stdout",
     "output_type": "stream",
     "text": [
      "<class 'pandas.core.frame.DataFrame'>\n",
      "RangeIndex: 1752932 entries, 0 to 1752931\n",
      "Data columns (total 15 columns):\n",
      " #   Column             Dtype \n",
      "---  ------             ----- \n",
      " 0   marketplace        object\n",
      " 1   customer_id        object\n",
      " 2   review_id          object\n",
      " 3   product_id         object\n",
      " 4   product_parent     object\n",
      " 5   product_title      object\n",
      " 6   product_category   object\n",
      " 7   star_rating        int32 \n",
      " 8   helpful_votes      int32 \n",
      " 9   total_votes        int32 \n",
      " 10  vine               int64 \n",
      " 11  verified_purchase  int64 \n",
      " 12  review_headline    object\n",
      " 13  review_body        object\n",
      " 14  review_date        object\n",
      "dtypes: int32(3), int64(2), object(10)\n",
      "memory usage: 180.5+ MB\n"
     ]
    }
   ],
   "source": [
    "dataset_v1_00 = load_dataset('amazon_us_reviews', 'Baby_v1_00')\n",
    "df = dataset_v1_00['train'].to_pandas()\n",
    "df.info()"
   ]
  },
  {
   "cell_type": "code",
   "execution_count": 8,
   "metadata": {},
   "outputs": [
    {
     "data": {
      "text/html": [
       "<div>\n",
       "<style scoped>\n",
       "    .dataframe tbody tr th:only-of-type {\n",
       "        vertical-align: middle;\n",
       "    }\n",
       "\n",
       "    .dataframe tbody tr th {\n",
       "        vertical-align: top;\n",
       "    }\n",
       "\n",
       "    .dataframe thead th {\n",
       "        text-align: right;\n",
       "    }\n",
       "</style>\n",
       "<table border=\"1\" class=\"dataframe\">\n",
       "  <thead>\n",
       "    <tr style=\"text-align: right;\">\n",
       "      <th></th>\n",
       "      <th>marketplace</th>\n",
       "      <th>customer_id</th>\n",
       "      <th>review_id</th>\n",
       "      <th>product_id</th>\n",
       "      <th>product_parent</th>\n",
       "      <th>product_title</th>\n",
       "      <th>product_category</th>\n",
       "      <th>star_rating</th>\n",
       "      <th>helpful_votes</th>\n",
       "      <th>total_votes</th>\n",
       "      <th>vine</th>\n",
       "      <th>verified_purchase</th>\n",
       "      <th>review_headline</th>\n",
       "      <th>review_body</th>\n",
       "      <th>review_date</th>\n",
       "    </tr>\n",
       "  </thead>\n",
       "  <tbody>\n",
       "    <tr>\n",
       "      <th>0</th>\n",
       "      <td>US</td>\n",
       "      <td>9970739</td>\n",
       "      <td>R8EWA1OFT84NX</td>\n",
       "      <td>B00GSP5D94</td>\n",
       "      <td>329991347</td>\n",
       "      <td>Summer Infant SwaddleMe Adjustable Infant Wrap...</td>\n",
       "      <td>Baby</td>\n",
       "      <td>5</td>\n",
       "      <td>0</td>\n",
       "      <td>0</td>\n",
       "      <td>0</td>\n",
       "      <td>1</td>\n",
       "      <td>Great swaddled blankets</td>\n",
       "      <td>Loved these swaddle blankets and so did my dau...</td>\n",
       "      <td>2015-08-31</td>\n",
       "    </tr>\n",
       "    <tr>\n",
       "      <th>1</th>\n",
       "      <td>US</td>\n",
       "      <td>23538442</td>\n",
       "      <td>R2JWY4YRQD4FOP</td>\n",
       "      <td>B00YYDDZGU</td>\n",
       "      <td>646108902</td>\n",
       "      <td>Pacifier Clip Girl (3 Pack) Ziggy Baby 2-Sided...</td>\n",
       "      <td>Baby</td>\n",
       "      <td>5</td>\n",
       "      <td>0</td>\n",
       "      <td>0</td>\n",
       "      <td>0</td>\n",
       "      <td>0</td>\n",
       "      <td>Too cute and really nice</td>\n",
       "      <td>These are adorable pacifier clips. SavvyBaby h...</td>\n",
       "      <td>2015-08-31</td>\n",
       "    </tr>\n",
       "    <tr>\n",
       "      <th>2</th>\n",
       "      <td>US</td>\n",
       "      <td>8273344</td>\n",
       "      <td>RL5ESX231LZ0B</td>\n",
       "      <td>B00BUBNZC8</td>\n",
       "      <td>642922361</td>\n",
       "      <td>Udder Covers - Breast Feeding Nursing Cover</td>\n",
       "      <td>Baby</td>\n",
       "      <td>5</td>\n",
       "      <td>0</td>\n",
       "      <td>0</td>\n",
       "      <td>0</td>\n",
       "      <td>1</td>\n",
       "      <td>Five Stars</td>\n",
       "      <td>Great gift</td>\n",
       "      <td>2015-08-31</td>\n",
       "    </tr>\n",
       "    <tr>\n",
       "      <th>3</th>\n",
       "      <td>US</td>\n",
       "      <td>24557753</td>\n",
       "      <td>RRMS9ZWJ2KD08</td>\n",
       "      <td>B00AWLZFTS</td>\n",
       "      <td>494272733</td>\n",
       "      <td>Gerber Graduates Fun Pack Utensils</td>\n",
       "      <td>Baby</td>\n",
       "      <td>5</td>\n",
       "      <td>0</td>\n",
       "      <td>0</td>\n",
       "      <td>0</td>\n",
       "      <td>1</td>\n",
       "      <td>Cute; wash up nicely in dishwasher.</td>\n",
       "      <td>These forks are great for my 10 month old daug...</td>\n",
       "      <td>2015-08-31</td>\n",
       "    </tr>\n",
       "    <tr>\n",
       "      <th>4</th>\n",
       "      <td>US</td>\n",
       "      <td>46263340</td>\n",
       "      <td>R14I3ZG5E6S7YM</td>\n",
       "      <td>B00KM60D3Q</td>\n",
       "      <td>305813185</td>\n",
       "      <td>Summer Infant Ultra Sight Pan/Scan/Zoom Video ...</td>\n",
       "      <td>Baby</td>\n",
       "      <td>5</td>\n",
       "      <td>0</td>\n",
       "      <td>0</td>\n",
       "      <td>0</td>\n",
       "      <td>1</td>\n",
       "      <td>Love it!</td>\n",
       "      <td>I wanted something for piece of mind with my l...</td>\n",
       "      <td>2015-08-31</td>\n",
       "    </tr>\n",
       "  </tbody>\n",
       "</table>\n",
       "</div>"
      ],
      "text/plain": [
       "  marketplace customer_id       review_id  product_id product_parent   \n",
       "0          US     9970739   R8EWA1OFT84NX  B00GSP5D94      329991347  \\\n",
       "1          US    23538442  R2JWY4YRQD4FOP  B00YYDDZGU      646108902   \n",
       "2          US     8273344   RL5ESX231LZ0B  B00BUBNZC8      642922361   \n",
       "3          US    24557753   RRMS9ZWJ2KD08  B00AWLZFTS      494272733   \n",
       "4          US    46263340  R14I3ZG5E6S7YM  B00KM60D3Q      305813185   \n",
       "\n",
       "                                       product_title product_category   \n",
       "0  Summer Infant SwaddleMe Adjustable Infant Wrap...             Baby  \\\n",
       "1  Pacifier Clip Girl (3 Pack) Ziggy Baby 2-Sided...             Baby   \n",
       "2        Udder Covers - Breast Feeding Nursing Cover             Baby   \n",
       "3                 Gerber Graduates Fun Pack Utensils             Baby   \n",
       "4  Summer Infant Ultra Sight Pan/Scan/Zoom Video ...             Baby   \n",
       "\n",
       "   star_rating  helpful_votes  total_votes  vine  verified_purchase   \n",
       "0            5              0            0     0                  1  \\\n",
       "1            5              0            0     0                  0   \n",
       "2            5              0            0     0                  1   \n",
       "3            5              0            0     0                  1   \n",
       "4            5              0            0     0                  1   \n",
       "\n",
       "                       review_headline   \n",
       "0              Great swaddled blankets  \\\n",
       "1             Too cute and really nice   \n",
       "2                           Five Stars   \n",
       "3  Cute; wash up nicely in dishwasher.   \n",
       "4                             Love it!   \n",
       "\n",
       "                                         review_body review_date  \n",
       "0  Loved these swaddle blankets and so did my dau...  2015-08-31  \n",
       "1  These are adorable pacifier clips. SavvyBaby h...  2015-08-31  \n",
       "2                                         Great gift  2015-08-31  \n",
       "3  These forks are great for my 10 month old daug...  2015-08-31  \n",
       "4  I wanted something for piece of mind with my l...  2015-08-31  "
      ]
     },
     "execution_count": 8,
     "metadata": {},
     "output_type": "execute_result"
    }
   ],
   "source": [
    "df.head()"
   ]
  },
  {
   "cell_type": "code",
   "execution_count": 9,
   "metadata": {},
   "outputs": [],
   "source": [
    "df['review_date'] = pd.to_datetime(df['review_date'])"
   ]
  },
  {
   "attachments": {},
   "cell_type": "markdown",
   "metadata": {},
   "source": [
    "### Save data to local dictionary"
   ]
  },
  {
   "cell_type": "code",
   "execution_count": 10,
   "metadata": {},
   "outputs": [],
   "source": [
    "df_path = '/Users/linwang/Documents/AmaRec/data/raw/'\n",
    "df.to_csv(df_path+'raw_data.csv', index=False)"
   ]
  },
  {
   "attachments": {},
   "cell_type": "markdown",
   "metadata": {},
   "source": [
    "### Read data"
   ]
  },
  {
   "cell_type": "code",
   "execution_count": 2,
   "metadata": {},
   "outputs": [],
   "source": [
    "df_path = '/Users/linwang/Documents/AmaRec/data/raw/'\n",
    "df = pd.read_csv(df_path+'raw_data.csv')"
   ]
  },
  {
   "attachments": {},
   "cell_type": "markdown",
   "metadata": {},
   "source": [
    "### Select data in 2015 and only include verified purchases"
   ]
  },
  {
   "cell_type": "code",
   "execution_count": 3,
   "metadata": {},
   "outputs": [],
   "source": [
    "df_use = df[(df['review_date']>'2014-12-31') & (df['verified_purchase']==1)]\n",
    "df_use.shape"
   ]
  },
  {
   "cell_type": "code",
   "execution_count": 24,
   "metadata": {},
   "outputs": [
    {
     "data": {
      "image/png": "[encoded data removed]",
      "text/plain": [
       "<Figure size 600x600 with 3 Axes>"
      ]
     },
     "metadata": {},
     "output_type": "display_data"
    }
   ],
   "source": [
    "ratings = pd.DataFrame(df_use.groupby('product_title')['star_rating'].mean())\n",
    "ratings['num of ratings'] = pd.DataFrame(df_use.groupby('product_title')['star_rating'].count())\n",
    "sns.jointplot(x='star_rating',y='num of ratings',data=ratings,alpha=0.5)\n",
    "plt.savefig('rating_distribution.png')"
   ]
  },
  {
   "attachments": {},
   "cell_type": "markdown",
   "metadata": {},
   "source": [
    "### Select customer_id with the most reviews"
   ]
  },
  {
   "cell_type": "code",
   "execution_count": 17,
   "metadata": {},
   "outputs": [
    {
     "data": {
      "text/html": [
       "<div>\n",
       "<style scoped>\n",
       "    .dataframe tbody tr th:only-of-type {\n",
       "        vertical-align: middle;\n",
       "    }\n",
       "\n",
       "    .dataframe tbody tr th {\n",
       "        vertical-align: top;\n",
       "    }\n",
       "\n",
       "    .dataframe thead th {\n",
       "        text-align: right;\n",
       "    }\n",
       "</style>\n",
       "<table border=\"1\" class=\"dataframe\">\n",
       "  <thead>\n",
       "    <tr style=\"text-align: right;\">\n",
       "      <th></th>\n",
       "      <th>customer_id</th>\n",
       "      <th>product_title</th>\n",
       "      <th>review_headline</th>\n",
       "    </tr>\n",
       "  </thead>\n",
       "  <tbody>\n",
       "    <tr>\n",
       "      <th>191617</th>\n",
       "      <td>13867682</td>\n",
       "      <td>BABYBJORN Potty Chair</td>\n",
       "      <td>OK, not outstanding for us</td>\n",
       "    </tr>\n",
       "    <tr>\n",
       "      <th>225555</th>\n",
       "      <td>13867682</td>\n",
       "      <td>Prince Lionheart 2 Stage Seatsaver</td>\n",
       "      <td>Perfect for Graco seat in CR-V</td>\n",
       "    </tr>\n",
       "    <tr>\n",
       "      <th>226015</th>\n",
       "      <td>13867682</td>\n",
       "      <td>Prince Lionheart Backseat Kick Mat</td>\n",
       "      <td>Excellent seat saver</td>\n",
       "    </tr>\n",
       "    <tr>\n",
       "      <th>228417</th>\n",
       "      <td>13867682</td>\n",
       "      <td>Trend Lab Cotton CribWrap Wide Rail Cover for ...</td>\n",
       "      <td>Fantastic crib rail covers!</td>\n",
       "    </tr>\n",
       "    <tr>\n",
       "      <th>228717</th>\n",
       "      <td>13867682</td>\n",
       "      <td>NUK Learner Cup BPA Free Silicone Spout, Singl...</td>\n",
       "      <td>Toddler didn't like it</td>\n",
       "    </tr>\n",
       "    <tr>\n",
       "      <th>...</th>\n",
       "      <td>...</td>\n",
       "      <td>...</td>\n",
       "      <td>...</td>\n",
       "    </tr>\n",
       "    <tr>\n",
       "      <th>336730</th>\n",
       "      <td>13867682</td>\n",
       "      <td>Munchkin Feeding Set</td>\n",
       "      <td>Using for nine months - highly recommend</td>\n",
       "    </tr>\n",
       "    <tr>\n",
       "      <th>336801</th>\n",
       "      <td>13867682</td>\n",
       "      <td>Nuby Super Spout No Spill Replacement Spouts C...</td>\n",
       "      <td>Good while toothless</td>\n",
       "    </tr>\n",
       "    <tr>\n",
       "      <th>337719</th>\n",
       "      <td>13867682</td>\n",
       "      <td>Everything Kids Toddler Bedding Set</td>\n",
       "      <td>Used on crib mattress</td>\n",
       "    </tr>\n",
       "    <tr>\n",
       "      <th>337874</th>\n",
       "      <td>13867682</td>\n",
       "      <td>Nuby Super Spout Easy Gripper, 10 Ounce</td>\n",
       "      <td>Good until the teeth show up</td>\n",
       "    </tr>\n",
       "    <tr>\n",
       "      <th>343308</th>\n",
       "      <td>13867682</td>\n",
       "      <td>Nuby Infant Nail Clipper</td>\n",
       "      <td>Very Small Clippers</td>\n",
       "    </tr>\n",
       "  </tbody>\n",
       "</table>\n",
       "<p>65 rows × 3 columns</p>\n",
       "</div>"
      ],
      "text/plain": [
       "        customer_id                                      product_title   \n",
       "191617     13867682                              BABYBJORN Potty Chair  \\\n",
       "225555     13867682                 Prince Lionheart 2 Stage Seatsaver   \n",
       "226015     13867682                 Prince Lionheart Backseat Kick Mat   \n",
       "228417     13867682  Trend Lab Cotton CribWrap Wide Rail Cover for ...   \n",
       "228717     13867682  NUK Learner Cup BPA Free Silicone Spout, Singl...   \n",
       "...             ...                                                ...   \n",
       "336730     13867682                               Munchkin Feeding Set   \n",
       "336801     13867682  Nuby Super Spout No Spill Replacement Spouts C...   \n",
       "337719     13867682                Everything Kids Toddler Bedding Set   \n",
       "337874     13867682            Nuby Super Spout Easy Gripper, 10 Ounce   \n",
       "343308     13867682                           Nuby Infant Nail Clipper   \n",
       "\n",
       "                                 review_headline  \n",
       "191617                OK, not outstanding for us  \n",
       "225555            Perfect for Graco seat in CR-V  \n",
       "226015                      Excellent seat saver  \n",
       "228417               Fantastic crib rail covers!  \n",
       "228717                    Toddler didn't like it  \n",
       "...                                          ...  \n",
       "336730  Using for nine months - highly recommend  \n",
       "336801                      Good while toothless  \n",
       "337719                     Used on crib mattress  \n",
       "337874              Good until the teeth show up  \n",
       "343308                       Very Small Clippers  \n",
       "\n",
       "[65 rows x 3 columns]"
      ]
     },
     "execution_count": 17,
     "metadata": {},
     "output_type": "execute_result"
    }
   ],
   "source": [
    "top_customers = df_use['customer_id'].value_counts().head(20)\n",
    "df_top20 = df_use[df_use['customer_id']==top_customers.index[0]]\n",
    "df_top20[['customer_id','product_title','review_headline']]"
   ]
  },
  {
   "cell_type": "code",
   "execution_count": 18,
   "metadata": {},
   "outputs": [
    {
     "data": {
      "text/plain": [
       "<Axes: >"
      ]
     },
     "execution_count": 18,
     "metadata": {},
     "output_type": "execute_result"
    },
    {
     "data": {
      "image/png": "[encoded data removed]",
      "text/plain": [
       "<Figure size 640x480 with 1 Axes>"
      ]
     },
     "metadata": {},
     "output_type": "display_data"
    }
   ],
   "source": [
    "df_top20['star_rating'].hist()"
   ]
  },
  {
   "attachments": {},
   "cell_type": "markdown",
   "metadata": {},
   "source": [
    "### Randomly select 20 customer_id from the single review customers"
   ]
  },
  {
   "cell_type": "code",
   "execution_count": 19,
   "metadata": {},
   "outputs": [
    {
     "data": {
      "text/html": [
       "<div>\n",
       "<style scoped>\n",
       "    .dataframe tbody tr th:only-of-type {\n",
       "        vertical-align: middle;\n",
       "    }\n",
       "\n",
       "    .dataframe tbody tr th {\n",
       "        vertical-align: top;\n",
       "    }\n",
       "\n",
       "    .dataframe thead th {\n",
       "        text-align: right;\n",
       "    }\n",
       "</style>\n",
       "<table border=\"1\" class=\"dataframe\">\n",
       "  <thead>\n",
       "    <tr style=\"text-align: right;\">\n",
       "      <th></th>\n",
       "      <th>customer_id</th>\n",
       "      <th>product_title</th>\n",
       "      <th>review_headline</th>\n",
       "    </tr>\n",
       "  </thead>\n",
       "  <tbody>\n",
       "    <tr>\n",
       "      <th>26353</th>\n",
       "      <td>12088328</td>\n",
       "      <td>Iwotou Adjustable Multi Use Safety Strap Latches</td>\n",
       "      <td>Five Stars</td>\n",
       "    </tr>\n",
       "    <tr>\n",
       "      <th>38584</th>\n",
       "      <td>10236018</td>\n",
       "      <td>Kiinde Kozii Bottle Warmer and Breast Milk Warmer</td>\n",
       "      <td>Worth Every Dime</td>\n",
       "    </tr>\n",
       "    <tr>\n",
       "      <th>55968</th>\n",
       "      <td>47609866</td>\n",
       "      <td>Mommy's Helper Car Seat Sun Shade</td>\n",
       "      <td>buckles and seat still hot</td>\n",
       "    </tr>\n",
       "    <tr>\n",
       "      <th>68708</th>\n",
       "      <td>49266921</td>\n",
       "      <td>Hudson Baby Printed Mink Blanket with Dotted B...</td>\n",
       "      <td>Awesome</td>\n",
       "    </tr>\n",
       "    <tr>\n",
       "      <th>115225</th>\n",
       "      <td>38538109</td>\n",
       "      <td>Car Seat Sunshade by Freddie and Sebbie - Luxu...</td>\n",
       "      <td>We are so happy. In Phoenix</td>\n",
       "    </tr>\n",
       "    <tr>\n",
       "      <th>121176</th>\n",
       "      <td>31655967</td>\n",
       "      <td>Safety 1st Sit Booster Seat, Green</td>\n",
       "      <td>A great booster seat for babys</td>\n",
       "    </tr>\n",
       "    <tr>\n",
       "      <th>137799</th>\n",
       "      <td>14285300</td>\n",
       "      <td>Clevamama Full Length Bath Mat with Kneeling C...</td>\n",
       "      <td>So far so good</td>\n",
       "    </tr>\n",
       "    <tr>\n",
       "      <th>144111</th>\n",
       "      <td>11142180</td>\n",
       "      <td>Leachco Flipper 2-Way Baby Bather -Frog Pond</td>\n",
       "      <td>Great!</td>\n",
       "    </tr>\n",
       "    <tr>\n",
       "      <th>155058</th>\n",
       "      <td>43476040</td>\n",
       "      <td>Lotus Travel Crib and Portable Baby Playard</td>\n",
       "      <td>Convenient</td>\n",
       "    </tr>\n",
       "    <tr>\n",
       "      <th>189407</th>\n",
       "      <td>51687263</td>\n",
       "      <td>Fire HD 7 Screen Protector (4th Generation, 20...</td>\n",
       "      <td>Not Anti Glare (Matte Finish)</td>\n",
       "    </tr>\n",
       "    <tr>\n",
       "      <th>196776</th>\n",
       "      <td>19339763</td>\n",
       "      <td>Gallop - Musical Horse by Cuddle Barn</td>\n",
       "      <td>Excellent Transaction!</td>\n",
       "    </tr>\n",
       "    <tr>\n",
       "      <th>367727</th>\n",
       "      <td>2597910</td>\n",
       "      <td>Philips Avent BPA Free Soothie Pacifier, 0-3 M...</td>\n",
       "      <td>only one worked...other was broken</td>\n",
       "    </tr>\n",
       "    <tr>\n",
       "      <th>386010</th>\n",
       "      <td>363784</td>\n",
       "      <td>Dream On Me Eden 5 In 1 Convertible</td>\n",
       "      <td>Beautiful!!</td>\n",
       "    </tr>\n",
       "    <tr>\n",
       "      <th>417884</th>\n",
       "      <td>22726717</td>\n",
       "      <td>VTech Communications Safe andSound Digital Aud...</td>\n",
       "      <td>Worth it, despite the limited lifespan.</td>\n",
       "    </tr>\n",
       "    <tr>\n",
       "      <th>425715</th>\n",
       "      <td>10423794</td>\n",
       "      <td>Infant Optics DXR-5 Portable Video Baby Monitor</td>\n",
       "      <td>Wonderful Video Monitor -- Highly Recommend</td>\n",
       "    </tr>\n",
       "    <tr>\n",
       "      <th>430245</th>\n",
       "      <td>15647547</td>\n",
       "      <td>Infant Stim-mobile</td>\n",
       "      <td>Five Stars</td>\n",
       "    </tr>\n",
       "    <tr>\n",
       "      <th>466736</th>\n",
       "      <td>10143674</td>\n",
       "      <td>Baltic Amber Teething Necklace for Babies - An...</td>\n",
       "      <td>Good quality, fits well and just adorable</td>\n",
       "    </tr>\n",
       "    <tr>\n",
       "      <th>479606</th>\n",
       "      <td>15412616</td>\n",
       "      <td>New Extra Long Vinyl Shower Bath Mat, Extra Lo...</td>\n",
       "      <td>Nice product</td>\n",
       "    </tr>\n",
       "    <tr>\n",
       "      <th>487812</th>\n",
       "      <td>21429757</td>\n",
       "      <td>JOTO Stylus / Styli - Hybrid 2-in-1 Stylus Pen...</td>\n",
       "      <td>I purchased two of these for Christmas gifts. ...</td>\n",
       "    </tr>\n",
       "    <tr>\n",
       "      <th>489969</th>\n",
       "      <td>51452052</td>\n",
       "      <td>The First Years American Red Cross Deluxe Nail...</td>\n",
       "      <td>tiniest clippers ever</td>\n",
       "    </tr>\n",
       "  </tbody>\n",
       "</table>\n",
       "</div>"
      ],
      "text/plain": [
       "        customer_id                                      product_title   \n",
       "26353      12088328   Iwotou Adjustable Multi Use Safety Strap Latches  \\\n",
       "38584      10236018  Kiinde Kozii Bottle Warmer and Breast Milk Warmer   \n",
       "55968      47609866                  Mommy's Helper Car Seat Sun Shade   \n",
       "68708      49266921  Hudson Baby Printed Mink Blanket with Dotted B...   \n",
       "115225     38538109  Car Seat Sunshade by Freddie and Sebbie - Luxu...   \n",
       "121176     31655967                 Safety 1st Sit Booster Seat, Green   \n",
       "137799     14285300  Clevamama Full Length Bath Mat with Kneeling C...   \n",
       "144111     11142180       Leachco Flipper 2-Way Baby Bather -Frog Pond   \n",
       "155058     43476040        Lotus Travel Crib and Portable Baby Playard   \n",
       "189407     51687263  Fire HD 7 Screen Protector (4th Generation, 20...   \n",
       "196776     19339763              Gallop - Musical Horse by Cuddle Barn   \n",
       "367727      2597910  Philips Avent BPA Free Soothie Pacifier, 0-3 M...   \n",
       "386010       363784                Dream On Me Eden 5 In 1 Convertible   \n",
       "417884     22726717  VTech Communications Safe andSound Digital Aud...   \n",
       "425715     10423794    Infant Optics DXR-5 Portable Video Baby Monitor   \n",
       "430245     15647547                                 Infant Stim-mobile   \n",
       "466736     10143674  Baltic Amber Teething Necklace for Babies - An...   \n",
       "479606     15412616  New Extra Long Vinyl Shower Bath Mat, Extra Lo...   \n",
       "487812     21429757  JOTO Stylus / Styli - Hybrid 2-in-1 Stylus Pen...   \n",
       "489969     51452052  The First Years American Red Cross Deluxe Nail...   \n",
       "\n",
       "                                          review_headline  \n",
       "26353                                          Five Stars  \n",
       "38584                                    Worth Every Dime  \n",
       "55968                          buckles and seat still hot  \n",
       "68708                                             Awesome  \n",
       "115225                        We are so happy. In Phoenix  \n",
       "121176                     A great booster seat for babys  \n",
       "137799                                     So far so good  \n",
       "144111                                             Great!  \n",
       "155058                                         Convenient  \n",
       "189407                      Not Anti Glare (Matte Finish)  \n",
       "196776                             Excellent Transaction!  \n",
       "367727                 only one worked...other was broken  \n",
       "386010                                        Beautiful!!  \n",
       "417884            Worth it, despite the limited lifespan.  \n",
       "425715        Wonderful Video Monitor -- Highly Recommend  \n",
       "430245                                         Five Stars  \n",
       "466736          Good quality, fits well and just adorable  \n",
       "479606                                       Nice product  \n",
       "487812  I purchased two of these for Christmas gifts. ...  \n",
       "489969                              tiniest clippers ever  "
      ]
     },
     "execution_count": 19,
     "metadata": {},
     "output_type": "execute_result"
    }
   ],
   "source": [
    "single_review_customers = df_use['customer_id'].value_counts()[df_use['customer_id'].value_counts() == 1].index\n",
    "select_id = single_review_customers.to_series().sample(20).index\n",
    "df_bottom20 = df_use[df_use['customer_id'].isin(select_id)]\n",
    "df_bottom20[['customer_id','product_title','review_headline']]"
   ]
  },
  {
   "cell_type": "code",
   "execution_count": 20,
   "metadata": {},
   "outputs": [
    {
     "data": {
      "text/plain": [
       "<Axes: >"
      ]
     },
     "execution_count": 20,
     "metadata": {},
     "output_type": "execute_result"
    },
    {
     "data": {
      "image/png": "[encoded data removed]",
      "text/plain": [
       "<Figure size 640x480 with 1 Axes>"
      ]
     },
     "metadata": {},
     "output_type": "display_data"
    }
   ],
   "source": [
    "df_bottom20['star_rating'].hist()"
   ]
  }
 ],
 "metadata": {
  "kernelspec": {
   "display_name": "py4ds",
   "language": "python",
   "name": "python3"
  },
  "language_info": {
   "codemirror_mode": {
    "name": "ipython",
    "version": 3
   },
   "file_extension": ".py",
   "mimetype": "text/x-python",
   "name": "python",
   "nbconvert_exporter": "python",
   "pygments_lexer": "ipython3",
   "version": "3.8.16"
  },
  "orig_nbformat": 4
 },
 "nbformat": 4,
 "nbformat_minor": 2
}
