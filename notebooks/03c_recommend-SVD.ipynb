{
 "cells": [
  {
   "cell_type": "code",
   "execution_count": 1,
   "metadata": {},
   "outputs": [],
   "source": [
    "import pandas as pd\n",
    "import numpy as np\n",
    "import matplotlib.pyplot as plt\n",
    "from sklearn.preprocessing import MinMaxScaler\n",
    "from sklearn.preprocessing import LabelEncoder\n",
    "from sklearn.model_selection import train_test_split, GridSearchCV\n",
    "from sklearn.metrics import mean_squared_error\n",
    "from scipy.sparse import coo_matrix\n",
    "from implicit.als import AlternatingLeastSquares\n",
    "import scipy.sparse as sp\n",
    "from scipy.sparse.linalg import svds"
   ]
  },
  {
   "attachments": {},
   "cell_type": "markdown",
   "metadata": {},
   "source": [
    "# Read in data and prepare for recommendation system"
   ]
  },
  {
   "cell_type": "code",
   "execution_count": 2,
   "metadata": {},
   "outputs": [],
   "source": [
    "df_path = '/Users/linwang/Documents/AmaRec/'\n",
    "df = pd.read_csv(df_path + 'data/processed/data_clean_kmeanlabel.csv')"
   ]
  },
  {
   "cell_type": "code",
   "execution_count": 3,
   "metadata": {},
   "outputs": [
    {
     "name": "stdout",
     "output_type": "stream",
     "text": [
      "<class 'pandas.core.frame.DataFrame'>\n",
      "RangeIndex: 451648 entries, 0 to 451647\n",
      "Data columns (total 13 columns):\n",
      " #   Column                 Non-Null Count   Dtype \n",
      "---  ------                 --------------   ----- \n",
      " 0   customer_id            451648 non-null  int64 \n",
      " 1   review_id              451648 non-null  object\n",
      " 2   product_id             451648 non-null  object\n",
      " 3   review_date            451648 non-null  object\n",
      " 4   star_rating            451648 non-null  int64 \n",
      " 5   raw_product_title      451648 non-null  object\n",
      " 6   raw_review_headline    451646 non-null  object\n",
      " 7   raw_review_body        451530 non-null  object\n",
      " 8   product_title          451647 non-null  object\n",
      " 9   review_headline        451033 non-null  object\n",
      " 10  review_body            450864 non-null  object\n",
      " 11  product cluster label  451648 non-null  int64 \n",
      " 12  cluster_label          451648 non-null  object\n",
      "dtypes: int64(3), object(10)\n",
      "memory usage: 44.8+ MB\n"
     ]
    }
   ],
   "source": [
    "df.info()"
   ]
  },
  {
   "attachments": {},
   "cell_type": "markdown",
   "metadata": {},
   "source": [
    "## EDA"
   ]
  },
  {
   "cell_type": "code",
   "execution_count": 4,
   "metadata": {},
   "outputs": [
    {
     "data": {
      "text/plain": [
       "<Axes: >"
      ]
     },
     "execution_count": 4,
     "metadata": {},
     "output_type": "execute_result"
    },
    {
     "data": {
      "image/png": "[encoded data removed]",
      "text/plain": [
       "<Figure size 640x480 with 1 Axes>"
      ]
     },
     "metadata": {},
     "output_type": "display_data"
    }
   ],
   "source": [
    "df.groupby('product_id')['star_rating'].mean().hist()"
   ]
  },
  {
   "cell_type": "code",
   "execution_count": 5,
   "metadata": {},
   "outputs": [
    {
     "data": {
      "text/plain": [
       "product_id\n",
       "B000YDDF6O    1403\n",
       "B0052QYLUM    1247\n",
       "B00KDKKD1I    1213\n",
       "B001OC5UMQ    1123\n",
       "B00ECHYTBI    1012\n",
       "              ... \n",
       "B00JE4A8TQ       1\n",
       "B00O49ZUB2       1\n",
       "B00KDBR52W       1\n",
       "B00E3VBDK8       1\n",
       "B00M9ZPFXG       1\n",
       "Name: count, Length: 71585, dtype: int64"
      ]
     },
     "execution_count": 5,
     "metadata": {},
     "output_type": "execute_result"
    }
   ],
   "source": [
    "df['product_id'].value_counts().sort_values(ascending=False)"
   ]
  },
  {
   "cell_type": "code",
   "execution_count": 6,
   "metadata": {},
   "outputs": [
    {
     "data": {
      "text/plain": [
       "customer_id\n",
       "13867682    65\n",
       "11357371    62\n",
       "49857685    55\n",
       "22632433    55\n",
       "15943263    52\n",
       "            ..\n",
       "11595343     1\n",
       "27487276     1\n",
       "36436009     1\n",
       "10355868     1\n",
       "11938952     1\n",
       "Name: count, Length: 278996, dtype: int64"
      ]
     },
     "execution_count": 6,
     "metadata": {},
     "output_type": "execute_result"
    }
   ],
   "source": [
    "df['customer_id'].value_counts().sort_values(ascending=False)"
   ]
  },
  {
   "cell_type": "code",
   "execution_count": 7,
   "metadata": {},
   "outputs": [],
   "source": [
    "df = df[~df['product_title'].astype(str).str.contains('discontinued', na=False)]\n",
    "df = df.groupby('product cluster label').sample(1000, random_state=42)"
   ]
  },
  {
   "cell_type": "code",
   "execution_count": 8,
   "metadata": {},
   "outputs": [
    {
     "name": "stdout",
     "output_type": "stream",
     "text": [
      "<class 'pandas.core.frame.DataFrame'>\n",
      "Index: 8000 entries, 285322 to 357536\n",
      "Data columns (total 13 columns):\n",
      " #   Column                 Non-Null Count  Dtype \n",
      "---  ------                 --------------  ----- \n",
      " 0   customer_id            8000 non-null   int64 \n",
      " 1   review_id              8000 non-null   object\n",
      " 2   product_id             8000 non-null   object\n",
      " 3   review_date            8000 non-null   object\n",
      " 4   star_rating            8000 non-null   int64 \n",
      " 5   raw_product_title      8000 non-null   object\n",
      " 6   raw_review_headline    7999 non-null   object\n",
      " 7   raw_review_body        7998 non-null   object\n",
      " 8   product_title          8000 non-null   object\n",
      " 9   review_headline        7987 non-null   object\n",
      " 10  review_body            7986 non-null   object\n",
      " 11  product cluster label  8000 non-null   int64 \n",
      " 12  cluster_label          8000 non-null   object\n",
      "dtypes: int64(3), object(10)\n",
      "memory usage: 875.0+ KB\n"
     ]
    }
   ],
   "source": [
    "df.info()"
   ]
  },
  {
   "attachments": {},
   "cell_type": "markdown",
   "metadata": {},
   "source": [
    "## Use SVD to reduce the dimentionality of the user-item matrix"
   ]
  },
  {
   "attachments": {},
   "cell_type": "markdown",
   "metadata": {},
   "source": [
    "### Get user-item matrix"
   ]
  },
  {
   "cell_type": "code",
   "execution_count": null,
   "metadata": {},
   "outputs": [],
   "source": [
    "df_piv = df_sample.pivot_table(index='customer_id',columns='product_id',values='star_rating',fill_value=0)\n",
    "print(df_piv.shape)\n",
    "user_item_matrix = df_piv.to_numpy()"
   ]
  },
  {
   "cell_type": "code",
   "execution_count": null,
   "metadata": {},
   "outputs": [],
   "source": [
    "def evaluate_svd_model(user_item_matrix,X_pred):\n",
    "    # Extract the ground truth ratings from the test set\n",
    "    item_ground_truth = user_item_matrix[user_item_matrix.nonzero()]\n",
    "    user_ground_truth = user_item_matrix[user_item_matrix.nonzero()]\n",
    "\n",
    "    # Extract the corresponding predicted ratings\n",
    "    item_pred = X_pred[user_item_matrix.nonzero()]\n",
    "\n",
    "    # Calculate the root mean squared error (RMSE)\n",
    "    item_rmse = np.sqrt(np.mean((item_ground_truth - item_pred) ** 2))\n",
    "    return item_rmse\n",
    "    "
   ]
  },
  {
   "attachments": {},
   "cell_type": "markdown",
   "metadata": {},
   "source": [
    "### Get SVD components from user-item matrix: test different K components values"
   ]
  },
  {
   "cell_type": "code",
   "execution_count": null,
   "metadata": {},
   "outputs": [],
   "source": [
    "kcomp = np.linspace(30,100,8)\n",
    "rmse_all = {}\n",
    "for k in kcomp:\n",
    "    u, s, vt = svds(user_item_matrix, k = k)\n",
    "    s_diag_matrix=np.diag(s)\n",
    "    X_pred = np.dot(np.dot(u, s_diag_matrix), vt)\n",
    "    item_rmse = evaluate_svd_model(user_item_matrix,X_pred)\n",
    "    rmse_all[f'{k} components'] = item_rmse\n",
    "    print(f\"Item-based Filtering RMSE for {k} components: {item_rmse}\")"
   ]
  },
  {
   "attachments": {},
   "cell_type": "markdown",
   "metadata": {},
   "source": [
    "## Use ALS to reduce dimensionality of user-item matrix"
   ]
  },
  {
   "attachments": {},
   "cell_type": "markdown",
   "metadata": {},
   "source": [
    "### Get user-item matrix"
   ]
  },
  {
   "attachments": {},
   "cell_type": "markdown",
   "metadata": {},
   "source": [
    "#### Normalize rating"
   ]
  },
  {
   "cell_type": "code",
   "execution_count": 9,
   "metadata": {},
   "outputs": [],
   "source": [
    "scaler = MinMaxScaler()\n",
    "df['normalized_rating'] = scaler.fit_transform(df[['star_rating']])"
   ]
  },
  {
   "attachments": {},
   "cell_type": "markdown",
   "metadata": {},
   "source": [
    "#### Use sparse encoding"
   ]
  },
  {
   "cell_type": "code",
   "execution_count": 10,
   "metadata": {},
   "outputs": [
    {
     "name": "stdout",
     "output_type": "stream",
     "text": [
      "(7774, 5185)\n"
     ]
    }
   ],
   "source": [
    "df_piv = df.pivot_table(index='customer_id',columns='product_id',values='normalized_rating',fill_value=0)\n",
    "print(df_piv.shape)\n",
    "user_item_matrix = df_piv.to_numpy()\n",
    "\n",
    "df['customer_id'] = df['customer_id'].astype(int)\n",
    "label_encoder = LabelEncoder()\n",
    "df['encoded_product_id']  = label_encoder.fit_transform(df['product_id'])\n",
    "#decoded_product_ids = label_encoder.inverse_transform(encoded_product_ids)\n",
    "\n",
    "row = df['customer_id'].values\n",
    "col = df['encoded_product_id'].values\n",
    "data = df['normalized_rating'].values\n",
    "user_item_matrix = coo_matrix((data, (row, col)))\n",
    "user_item_matrix_csr = user_item_matrix.tocsr()"
   ]
  },
  {
   "attachments": {},
   "cell_type": "markdown",
   "metadata": {},
   "source": [
    "### ALS model"
   ]
  },
  {
   "cell_type": "code",
   "execution_count": 14,
   "metadata": {},
   "outputs": [],
   "source": [
    "model = AlternatingLeastSquares(factors=50, regularization=0.01, iterations=50)\n",
    "\n",
    "# Fit the model to the sparse matrix\n",
    "model.fit(train_matrix)\n",
    "\n",
    "# Get the user and item factors\n",
    "user_factors = model.user_factors\n",
    "item_factors = model.item_factors"
   ]
  },
  {
   "cell_type": "code",
   "execution_count": null,
   "metadata": {},
   "outputs": [
    {
     "name": "stdout",
     "output_type": "stream",
     "text": [
      "Recommended item: 5184\n",
      "Recommended item: 1740\n",
      "Recommended item: 1722\n",
      "Recommended item: 1723\n",
      "Recommended item: 1724\n"
     ]
    }
   ],
   "source": [
    "user_factor = user_factors[1] #customer index 1\n",
    "recommendation_scores = np.dot(user_factor, item_factors.T)\n",
    "\n",
    "N = 5  # Number of recommendations to generate\n",
    "top_item_indices = np.argsort(recommendation_scores)[-N:][::-1]\n",
    "for item_idx in top_item_indices:\n",
    "    print(\"Recommended item:\", item_idx)"
   ]
  },
  {
   "attachments": {},
   "cell_type": "markdown",
   "metadata": {},
   "source": [
    "### Use gridsearch to identify the best ALS model"
   ]
  },
  {
   "cell_type": "code",
   "execution_count": null,
   "metadata": {},
   "outputs": [],
   "source": [
    "train_matrix, test_matrix = train_test_split(user_item_matrix_csr, test_size=0.2, random_state=42)\n",
    "\n",
    "model = AlternatingLeastSquares()\n",
    "\n",
    "# Define the parameter grid for grid search\n",
    "param_grid = {\n",
    "    'factors': [50, 100, 200],\n",
    "    'regularization': [0.01, 0.1, 1.0],\n",
    "    'iterations': [20, 50, 100]\n",
    "}\n",
    "\n",
    "# Perform grid search with cross-validation\n",
    "grid_search = GridSearchCV(model, param_grid, cv=3)\n",
    "grid_search.fit(train_matrix)\n",
    "\n",
    "# Get the best ALS model from grid search\n",
    "best_model = grid_search.best_estimator_\n",
    "\n",
    "# Make predictions on the test set\n",
    "test_predictions = best_model.recommend_all(test_matrix)\n",
    "\n",
    "# Calculate RMSE\n",
    "test_rmse = mean_squared_error(test_matrix.data, test_predictions.data, squared=False)\n",
    "\n",
    "# Print the best parameters and RMSE\n",
    "print(\"Best Parameters:\", grid_search.best_params_)\n",
    "print(\"Test RMSE:\", test_rmse)"
   ]
  }
 ],
 "metadata": {
  "kernelspec": {
   "display_name": "Python 3",
   "language": "python",
   "name": "python3"
  },
  "language_info": {
   "codemirror_mode": {
    "name": "ipython",
    "version": 3
   },
   "file_extension": ".py",
   "mimetype": "text/x-python",
   "name": "python",
   "nbconvert_exporter": "python",
   "pygments_lexer": "ipython3",
   "version": "3.8.16"
  },
  "orig_nbformat": 4
 },
 "nbformat": 4,
 "nbformat_minor": 2
}
